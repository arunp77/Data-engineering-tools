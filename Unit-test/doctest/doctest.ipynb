{
 "cells": [
  {
   "cell_type": "markdown",
   "metadata": {},
   "source": [
    "# Python's doctest: Document and Test Your Code at Once\n",
    "\n",
    "For reference, I have followed everything from [tutorial](https://realpython.com/python-doctest/).\n",
    "\n",
    "--- \n",
    "\n",
    "`doctest` is another testing framework in Python, which is simpler and more lightweight compared to `unittest` and `pytest`. It is particularly useful for ensuring that the examples in your documentation stay accurate and continue to work as expected.\n",
    "\n",
    "Apart from allowing you to use your code’s documentation for testing the code itself, doctest will help you keep your code and its documentation in perfect sync at any moment.\n",
    "\n",
    "**Note:**\n",
    "- Documentation strings, or simply docstrings, are a neat Python feature that can help you document your code as you go. The advantage of docstrings compared to comments is that the interpreter doesn’t ignore them. They’re a living part of your code.\n",
    "- Because docstrings are active parts of your code, you can access them at runtime. To do this, you can use the .__doc__ special attributes on your packages, modules, classes, methods, and functions.\n",
    "- Tools like `MkDocs` and `Sphinx` can take advantage of docstrings for generating project documentation automatically.\n",
    "- You can add docstrings to your packages, modules, classes, methods, and functions in Python. \n",
    "\n",
    "\n",
    "---"
   ]
  },
  {
   "cell_type": "markdown",
   "metadata": {},
   "source": [
    "### 1. What is `doctest`?\n",
    "\n",
    "`doctest` is a module included in Python’s standard library that allows you to embed tests directly in your docstrings. When you run `doctest`, it extracts these tests, runs them, and checks whether the output matches the expected results as documented.\n",
    "\n",
    "### 2. Why Use `doctest`?\n",
    "\n",
    "- **Documentation**: `doctest` makes sure that your documentation is up-to-date and that the examples you provide actually work. This is especially useful for libraries and APIs, where users rely heavily on examples.\n",
    "- **Simplicity**: Since tests are embedded in docstrings, there’s no need to write separate test cases or methods. The syntax is simple and straightforward.\n",
    "- **Ease of Use**: `doctest` can be used alongside other testing frameworks like `unittest` or `pytest` without any issues.\n",
    "\n",
    "**Comments/docstrings have a couple of drawbacks:**\n",
    "- They’re ignored by the interpreter or compiler, which makes them unreachable at runtime.\n",
    "- They often get outdated when the code evolves and the comments remain untouched.\n",
    "\n",
    "### 3. How `doctest` Works\n",
    "\n",
    "The doctest module is a lightweight testing framework that provides quick and straightforward test automation. It can read the test cases from your project’s documentation and your code’s docstrings. This framework is shipped with the Python interpreter and adheres to the batteries-included philosophy.\n",
    "\n",
    "`doctest` parses the docstrings of your functions, methods, classes, and modules, looking for pieces of text that look like interactive Python sessions. It then executes these sessions and compares the results against the expected output.\n",
    "\n",
    "You can use doctest from either your code or your command line. To find and run your test cases, doctest follows a few steps:\n",
    "\n",
    "- Searches for text that looks like Python interactive sessions in your documentation and docstrings\n",
    "- Parses those pieces of text to distinguish between executable code and expected results\n",
    "- Runs the executable code like regular Python code\n",
    "- Compares the execution result with the expected result\n",
    "\n",
    "The doctest framework searches for test cases in your documentation and the docstrings of packages, modules, functions, classes, and methods. It doesn’t search for test cases in any objects that you import.\n",
    "\n",
    "In general, doctest interprets as executable Python code all those lines of text that start with the primary (`>>>`) or secondary (`...`) REPL prompts. The lines immediately after either prompt are understood as the code’s expected output or result."
   ]
  },
  {
   "cell_type": "markdown",
   "metadata": {},
   "source": [
    "### 4. What doctest Is Useful For?\n",
    "\n",
    "- Writing quick and effective test cases to check your code as you write it\n",
    "- Running acceptance, regression, and integration test cases on your projects, packages, and modules\n",
    "- Checking if your docstrings are up-to-date and in sync with the target code\n",
    "- Verifying if your projects’ documentation is up-to-date\n",
    "- Writing hands-on tutorials for your projects, packages, and modules\n",
    "- Illustrating how to use your projects’ APIs and what the expected input and output must be\n",
    "\n",
    "Having doctest tests in your documentation and docstrings is an excellent way for your clients or teammates to run those tests when evaluating the features, specifications, and quality of your code."
   ]
  },
  {
   "attachments": {
    "image.png": {
     "image/png": "[encoded data removed]"
    }
   },
   "cell_type": "markdown",
   "metadata": {},
   "source": [
    "### 5. Writing Your Own doctest Tests in Python\n",
    "Now that you know what doctest is and what you can use it for, you’ll learn how to use doctest to test your code. No particular setup is required because doctest is part of the Python standard library. You can use it in your Python code without installing any additional packages.\n",
    "\n",
    "**General structure of the docstrings:**\n",
    "\n",
    "---\n",
    "```python \n",
    "\"\"\"This module implements functions to process iterables.\"\"\"\n",
    "\n",
    "def find_value(value, iterable):\n",
    "    \"\"\"Return True if value is in iterable, False otherwise.\"\"\"\n",
    "    # Be explicit by using iteration instead of membership\n",
    "    for item in iterable:\n",
    "        if value == item:  # Find the target value by equality\n",
    "            return True\n",
    "    return False\n",
    "```\n",
    "---\n",
    "\n",
    "#### 6. Creating doctest Tests for Checking Returned and Printed Values\n",
    "\n",
    "The first and probably most common use case of code testing is checking the return value of functions, methods, and other callables. You can do this with doctest tests. For example, say you have a function called `add()` that takes two numbers as arguments and returns their arithmetic sum:\n",
    "\n",
    "---\n",
    "```python \n",
    "# calculations.py\n",
    "\n",
    "def add(a, b):\n",
    "    return float(a + b)\n",
    "```\n",
    "---\n",
    "\n",
    "This function adds two numbers together. Documenting your code is a good practice, so you can add a docstring to this function. Your docstring can look something like this:\n",
    "\n",
    "---\n",
    "```python \n",
    "# calculations.py\n",
    "\n",
    "def add(a, b):\n",
    "    \"\"\"Compute and return the sum of two numbers.\n",
    "\n",
    "    Usage examples:\n",
    "    >>> add(4.0, 2.0)\n",
    "    6.0\n",
    "    >>> add(4, 2)\n",
    "    6.0\n",
    "    \"\"\"\n",
    "    return float(a + b)\n",
    "```\n",
    "--- \n",
    "\n",
    "This docstring includes two examples of how to use `add()`. Each example consists of an initial line that starts with Python’s primary interactive prompt, `>>>`. This line includes a call to `add()` with two numeric arguments. Then the example has a second line that contains the expected output, which matches the function’s expected return value.\n",
    "\n",
    "In both examples, the expected output is a floating-point number, which is required because the function always returns this type of number.\n",
    "\n",
    "You can run these tests with doctest. Go ahead and run the following command:\n",
    "\n",
    "---\n",
    "```bash \n",
    "$ python -m doctest calculations.py\n",
    "```\n",
    "--- \n",
    "\n",
    "![image.png](attachment:image.png) "
   ]
  },
  {
   "cell_type": "markdown",
   "metadata": {},
   "source": []
  },
  {
   "cell_type": "markdown",
   "metadata": {},
   "source": []
  },
  {
   "cell_type": "markdown",
   "metadata": {},
   "source": []
  },
  {
   "cell_type": "markdown",
   "metadata": {},
   "source": []
  },
  {
   "cell_type": "markdown",
   "metadata": {},
   "source": []
  },
  {
   "cell_type": "markdown",
   "metadata": {},
   "source": []
  },
  {
   "cell_type": "markdown",
   "metadata": {},
   "source": []
  },
  {
   "cell_type": "markdown",
   "metadata": {},
   "source": []
  },
  {
   "cell_type": "markdown",
   "metadata": {},
   "source": []
  },
  {
   "cell_type": "markdown",
   "metadata": {},
   "source": []
  },
  {
   "cell_type": "markdown",
   "metadata": {},
   "source": []
  },
  {
   "cell_type": "markdown",
   "metadata": {},
   "source": []
  },
  {
   "cell_type": "code",
   "execution_count": null,
   "metadata": {},
   "outputs": [],
   "source": []
  }
 ],
 "metadata": {
  "language_info": {
   "name": "python"
  }
 },
 "nbformat": 4,
 "nbformat_minor": 2
}
