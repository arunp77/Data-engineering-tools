{
 "cells": [
  {
   "cell_type": "markdown",
   "metadata": {},
   "source": [
    "## Remeber before running the notebook\n",
    "\n",
    "Always restart the Jupyter notebook to see what each cell does."
   ]
  },
  {
   "cell_type": "code",
   "execution_count": 1,
   "metadata": {},
   "outputs": [],
   "source": [
    "# Let's start with importing the 'logging'\n",
    "import logging"
   ]
  },
  {
   "cell_type": "code",
   "execution_count": 1,
   "metadata": {},
   "outputs": [
    {
     "name": "stderr",
     "output_type": "stream",
     "text": [
      "DEBUG:root:This is a debug message\n",
      "INFO:root:This is an info message\n",
      "WARNING:root:This is a warning message\n",
      "ERROR:root:This is an error message\n",
      "CRITICAL:root:This is a critical message\n"
     ]
    }
   ],
   "source": [
    "logging.basicConfig(level=logging.DEBUG)\n",
    "logging.debug(\"This is a debug message\")\n",
    "logging.info(\"This is an info message\")\n",
    "logging.warning(\"This is a warning message\")\n",
    "logging.error(\"This is an error message\")\n",
    "logging.critical(\"This is a critical message\")"
   ]
  },
  {
   "cell_type": "code",
   "execution_count": 2,
   "metadata": {},
   "outputs": [
    {
     "name": "stderr",
     "output_type": "stream",
     "text": [
      "INFO:root:Dividing 10 by 0\n",
      "ERROR:root:Attempted to divide by zero\n"
     ]
    }
   ],
   "source": [
    "logging.basicConfig(level=logging.INFO)\n",
    "                            \n",
    "def divide(a, b):\n",
    "    logging.info(f\"Dividing {a} by {b}\")\n",
    "    try:\n",
    "        result = a / b\n",
    "    except ZeroDivisionError:\n",
    "        logging.error(\"Attempted to divide by zero\")\n",
    "        return None\n",
    "    else:\n",
    "        return result\n",
    "\n",
    "result = divide(10, 0)  # This will trigger an error log"
   ]
  },
  {
   "cell_type": "markdown",
   "metadata": {},
   "source": [
    "###  Configuring Log Output Format\n",
    "You can customize the log message format using the format argument in basicConfig()."
   ]
  },
  {
   "cell_type": "code",
   "execution_count": 3,
   "metadata": {},
   "outputs": [
    {
     "name": "stderr",
     "output_type": "stream",
     "text": [
      "INFO:root:This is an info message with a custom format\n"
     ]
    }
   ],
   "source": [
    "logging.basicConfig(\n",
    "    level=logging.DEBUG,\n",
    "    format='%(asctime)s - %(name)s - %(levelname)s - %(message)s'\n",
    "    )\n",
    "\n",
    "logging.info(\"This is an info message with a custom format\")"
   ]
  },
  {
   "cell_type": "markdown",
   "metadata": {},
   "source": [
    "### You can configure logging to output messages to a file instead of the console."
   ]
  },
  {
   "cell_type": "code",
   "execution_count": 4,
   "metadata": {},
   "outputs": [
    {
     "data": {
      "text/plain": [
       "'d:\\\\Arun 2022\\\\Github\\\\Data-engineering-courses\\\\Data-engineering-tools\\\\Python-loogin-todo-list'"
      ]
     },
     "execution_count": 4,
     "metadata": {},
     "output_type": "execute_result"
    }
   ],
   "source": [
    "%pwd"
   ]
  },
  {
   "cell_type": "code",
   "execution_count": 5,
   "metadata": {},
   "outputs": [
    {
     "name": "stdout",
     "output_type": "stream",
     "text": [
      " Volume in drive D is New Volume\n",
      " Volume Serial Number is 66CC-0E4D\n",
      "\n",
      " Directory of d:\\Arun 2022\\Github\\Data-engineering-courses\\Data-engineering-tools\\Python-loogin-todo-list\n",
      "\n",
      "17-08-2024  07:04 PM    <DIR>          .\n",
      "17-08-2024  06:19 PM    <DIR>          ..\n",
      "17-08-2024  06:24 PM    <DIR>          __pycache__\n",
      "18-08-2024  02:28 PM             8,593 basics.ipynb\n",
      "17-08-2024  06:34 PM           321,097 image.png\n",
      "17-08-2024  06:36 PM            42,248 image-1.png\n",
      "17-08-2024  06:47 PM             1,095 LICENCE\n",
      "17-08-2024  06:24 PM               339 logger.py\n",
      "18-08-2024  02:26 PM               672 my_app.log\n",
      "17-08-2024  06:36 PM             1,619 Readme.md\n",
      "17-08-2024  06:36 PM               897 todo.log\n",
      "17-08-2024  06:45 PM             1,890 todo.py\n",
      "               9 File(s)        378,450 bytes\n",
      "               3 Dir(s)  130,770,415,616 bytes free\n"
     ]
    }
   ],
   "source": [
    "%ls"
   ]
  },
  {
   "cell_type": "code",
   "execution_count": 4,
   "metadata": {},
   "outputs": [],
   "source": [
    "logging.basicConfig(\n",
    "    filename='app.log', \n",
    "    filemode='w', \n",
    "    level=logging.DEBUG,\n",
    "    format='%(name)s - %(levelname)s - %(message)s'\n",
    "    )\n",
    "\n",
    "logging.debug(\"This message will be logged to a file\")\n",
    "logging.info(\"This is another message logged to the file\")\n",
    "logging.warning(\"This is a warning message\")\n",
    "logging.error(\"This is a error message\")\n",
    "logging.critical(\"This is a critical message\")"
   ]
  },
  {
   "cell_type": "code",
   "execution_count": 5,
   "metadata": {},
   "outputs": [
    {
     "name": "stdout",
     "output_type": "stream",
     "text": [
      " Volume in drive D is New Volume\n",
      " Volume Serial Number is 66CC-0E4D\n",
      "\n",
      " Directory of d:\\Arun 2022\\Github\\Data-engineering-courses\\Data-engineering-tools\\Python-loogin-todo-list\n",
      "\n",
      "18-08-2024  02:32 PM    <DIR>          .\n",
      "17-08-2024  06:19 PM    <DIR>          ..\n",
      "17-08-2024  06:24 PM    <DIR>          __pycache__\n",
      "18-08-2024  02:33 PM               242 app.log\n",
      "18-08-2024  02:34 PM            11,288 basics.ipynb\n",
      "17-08-2024  06:34 PM           321,097 image.png\n",
      "17-08-2024  06:36 PM            42,248 image-1.png\n",
      "17-08-2024  06:47 PM             1,095 LICENCE\n",
      "17-08-2024  06:24 PM               339 logger.py\n",
      "18-08-2024  02:32 PM               896 my_app.log\n",
      "17-08-2024  06:36 PM             1,619 Readme.md\n",
      "17-08-2024  06:36 PM               897 todo.log\n",
      "17-08-2024  06:45 PM             1,890 todo.py\n",
      "              10 File(s)        381,611 bytes\n",
      "               3 Dir(s)  130,770,411,520 bytes free\n"
     ]
    }
   ],
   "source": [
    "%ls"
   ]
  },
  {
   "cell_type": "markdown",
   "metadata": {},
   "source": [
    "When running logging code in Jupyter notebooks, the `logging.basicConfig()` may not behave as expected, particularly when it comes to file handling. This is because Jupyter notebooks already configure their own logging system when they start up, which can interfere with your custom configurations."
   ]
  },
  {
   "cell_type": "markdown",
   "metadata": {},
   "source": [
    "To ensure that your logging setup works as intended, you'll need to handle the logging configuration differently. Here's how you can do it:\n",
    "\n",
    "#### Solution 1: Use a FileHandler Manually\n",
    "Instead of relying on basicConfig, you can manually create a FileHandler and add it to the logger:"
   ]
  },
  {
   "cell_type": "code",
   "execution_count": 9,
   "metadata": {},
   "outputs": [
    {
     "name": "stderr",
     "output_type": "stream",
     "text": [
      "DEBUG:root:This message will be logged to a file\n",
      "INFO:root:This is another message logged to the file\n",
      "WARNING:root:This is a warning message\n",
      "ERROR:root:This is an error message\n",
      "CRITICAL:root:This is a critical message\n"
     ]
    }
   ],
   "source": [
    "import logging\n",
    "\n",
    "# Create a logger\n",
    "logger = logging.getLogger()\n",
    "logger.setLevel(logging.DEBUG)\n",
    "\n",
    "# Create a file handler\n",
    "file_handler = logging.FileHandler('app.log', mode='w')\n",
    "\n",
    "# Create a logging format\n",
    "formatter = logging.Formatter('%(name)s - %(levelname)s - %(message)s')\n",
    "file_handler.setFormatter(formatter)\n",
    "\n",
    "# Add the file handler to the logger\n",
    "logger.addHandler(file_handler)\n",
    "\n",
    "# Log messages\n",
    "logger.debug(\"This message will be logged to a file\")\n",
    "logger.info(\"This is another message logged to the file\")\n",
    "logger.warning(\"This is a warning message\")\n",
    "logger.error(\"This is an error message\")\n",
    "logger.critical(\"This is a critical message\")\n"
   ]
  },
  {
   "cell_type": "markdown",
   "metadata": {},
   "source": [
    "#### Solution 2: Resetting Logging Configuration\n",
    "If you want to use basicConfig(), you need to reset the logging configuration first. This can be done by removing any existing handlers:\n"
   ]
  },
  {
   "cell_type": "code",
   "execution_count": 6,
   "metadata": {},
   "outputs": [],
   "source": [
    "import logging\n",
    "\n",
    "# Clear existing handlers\n",
    "for handler in logging.root.handlers[:]:\n",
    "    logging.root.removeHandler(handler)\n",
    "\n",
    "# Now configure logging\n",
    "logging.basicConfig(\n",
    "    filename='app.log', \n",
    "    filemode='w', \n",
    "    level=logging.DEBUG,\n",
    "    format='%(name)s - %(levelname)s - %(message)s'\n",
    ")\n",
    "\n",
    "# Log messages\n",
    "logging.debug(\"This message will be logged to a file\")\n",
    "logging.info(\"This is another message logged to the file\")\n",
    "logging.warning(\"This is a warning message\")\n",
    "logging.error(\"This is an error message\")\n",
    "logging.critical(\"This is a critical message\")\n"
   ]
  },
  {
   "cell_type": "markdown",
   "metadata": {},
   "source": [
    "### Adding Multiple Handlers\n",
    "Handlers are responsible for sending the log messages to the specified destination, such as the console, files, or external systems. You can configure multiple handlers to direct logs to multiple destinations."
   ]
  },
  {
   "cell_type": "code",
   "execution_count": 7,
   "metadata": {},
   "outputs": [
    {
     "name": "stderr",
     "output_type": "stream",
     "text": [
      "2024-08-18 14:28:39,671 - my_logger - DEBUG - This is a debug message\n",
      "DEBUG:my_logger:This is a debug message\n",
      "2024-08-18 14:28:39,674 - my_logger - INFO - This is an info message\n",
      "INFO:my_logger:This is an info message\n",
      "2024-08-18 14:28:39,674 - my_logger - WARNING - This is a warning message\n",
      "WARNING:my_logger:This is a warning message\n",
      "2024-08-18 14:28:39,681 - my_logger - ERROR - This is an error message\n",
      "ERROR:my_logger:This is an error message\n",
      "2024-08-18 14:28:39,682 - my_logger - CRITICAL - This is a critical message\n",
      "CRITICAL:my_logger:This is a critical message\n"
     ]
    }
   ],
   "source": [
    "import logging\n",
    "\n",
    "# Create a logger\n",
    "logger = logging.getLogger('my_logger')\n",
    "logger.setLevel(logging.DEBUG)\n",
    "\n",
    "# Create console handler and set level to debug\n",
    "console_handler = logging.StreamHandler()\n",
    "console_handler.setLevel(logging.DEBUG)\n",
    "\n",
    "# Create file handler and set level to warning\n",
    "file_handler = logging.FileHandler('my_app.log')\n",
    "file_handler.setLevel(logging.WARNING)\n",
    "\n",
    "# Create a formatter and set it for both handlers\n",
    "formatter = logging.Formatter('%(asctime)s - %(name)s - %(levelname)s - %(message)s')\n",
    "console_handler.setFormatter(formatter)\n",
    "file_handler.setFormatter(formatter)\n",
    "\n",
    "# Add handlers to the logger\n",
    "logger.addHandler(console_handler)\n",
    "logger.addHandler(file_handler)\n",
    "\n",
    "# Example log messages\n",
    "logger.debug(\"This is a debug message\")\n",
    "logger.info(\"This is an info message\")\n",
    "logger.warning(\"This is a warning message\")\n",
    "logger.error(\"This is an error message\")\n",
    "logger.critical(\"This is a critical message\")"
   ]
  },
  {
   "cell_type": "markdown",
   "metadata": {},
   "source": [
    "## Logging with multiple Loggers\n",
    "\n",
    "We can create multiple loggers for different parts of a application"
   ]
  },
  {
   "cell_type": "code",
   "execution_count": 1,
   "metadata": {},
   "outputs": [],
   "source": [
    "import logging\n",
    "\n",
    "# Create a logger for module 1\n",
    "logger1 = logging.getLogger(\"module1\")\n",
    "logger1.setLevel(logging.DEBUG)\n",
    "\n",
    "# Create a logger for module 2\n",
    "logger2 = logging.getLogger(\"module2\")\n",
    "logger2.setLevel(logging.WARNING)\n",
    "\n",
    "# Configure logging settings (this applies to the root logger and any logger that inherits it)\n",
    "logging.basicConfig(\n",
    "    level=logging.DEBUG,\n",
    "    format='%(asctime)s - %(name)s - %(levelname)s - %(message)s',\n",
    "    datefmt='%Y-%m-%d %H:%M:%S'\n",
    ")"
   ]
  },
  {
   "cell_type": "code",
   "execution_count": 4,
   "metadata": {},
   "outputs": [
    {
     "name": "stderr",
     "output_type": "stream",
     "text": [
      "2024-08-18 14:44:27 - module1 - DEBUG - This is a debug message from module 1\n",
      "2024-08-18 14:44:27 - module2 - WARNING - This is a warning message from module 2\n",
      "2024-08-18 14:44:27 - module2 - ERROR - This is an error message from module 2\n"
     ]
    }
   ],
   "source": [
    "# Example log messages\n",
    "logger1.debug(\"This is a debug message from module 1\")\n",
    "logger2.warning(\"This is a warning message from module 2\")\n",
    "logger2.error(\"This is an error message from module 2\")\n"
   ]
  },
  {
   "cell_type": "markdown",
   "metadata": {},
   "source": [
    "# Example"
   ]
  },
  {
   "cell_type": "code",
   "execution_count": 4,
   "metadata": {},
   "outputs": [],
   "source": [
    "import logging \n",
    "\n",
    "# Logging settings\n",
    "logging.basicConfig(\n",
    "    level=logging.DEBUG, \n",
    "    format='%(asctime)s - %(name)s - %(levelname)s - %(message)s',\n",
    "    datefmt='%Y-%m-%d %H:%M:%S', \n",
    "    handlers=[\n",
    "        logging.FileHandler('log.txt'), \n",
    "        logging.StreamHandler()\n",
    "    ]\n",
    ")\n",
    "\n",
    "logger = logging.getLogger(\"ArithmeticApp\")\n",
    "\n",
    "def add(a, b):\n",
    "    result = a + b\n",
    "    logger.debug(f\"Adding {a} + {b} = {result}\")\n",
    "    return result \n",
    "\n",
    "def subtract(a, b):\n",
    "    result = a - b\n",
    "    logger.debug(f\"Subtracting {a} - {b} = {result}\")\n",
    "    return result \n",
    "\n",
    "def multiply(a, b):\n",
    "    result = a * b\n",
    "    logger.debug(f\"Multiplying {a} * {b} = {result}\")\n",
    "    return result \n",
    "\n",
    "def divide(a, b):\n",
    "    try:\n",
    "        result = a / b\n",
    "        logger.debug(f\"Dividing {a} / {b} = {result}\")\n",
    "        return result \n",
    "    except ZeroDivisionError:\n",
    "        logger.error(\"Division by zero is not allowed.\")\n",
    "        return None"
   ]
  },
  {
   "cell_type": "code",
   "execution_count": 5,
   "metadata": {},
   "outputs": [
    {
     "name": "stderr",
     "output_type": "stream",
     "text": [
      "2024-08-18 14:59:40 - ArithmeticApp - DEBUG - Adding 10 + 15 = 25\n",
      "2024-08-18 14:59:40 - ArithmeticApp - DEBUG - Subtracting 10 - 15 = -5\n",
      "2024-08-18 14:59:40 - ArithmeticApp - DEBUG - Multiplying 10 * 2 = 20\n",
      "2024-08-18 14:59:40 - ArithmeticApp - DEBUG - Dividing 10 / 2 = 5.0\n",
      "2024-08-18 14:59:40 - ArithmeticApp - ERROR - Division by zero is not allowed.\n"
     ]
    }
   ],
   "source": [
    "\n",
    "# Testing the functions\n",
    "add(10, 15)\n",
    "subtract(10, 15)\n",
    "multiply(10, 2)\n",
    "divide(10, 2)\n",
    "divide(10, 0)"
   ]
  },
  {
   "cell_type": "code",
   "execution_count": 1,
   "metadata": {},
   "outputs": [
    {
     "name": "stdout",
     "output_type": "stream",
     "text": [
      "Before calling the function\n",
      "Inside the function\n",
      "After calling the function\n"
     ]
    }
   ],
   "source": [
    "def decorator(func):\n",
    "    def wrapper(*args, **kwargs):\n",
    "        print(\"Before calling the function\")\n",
    "        result = func(*args, **kwargs)\n",
    "        print(\"After calling the function\")\n",
    "        return result\n",
    "    return wrapper\n",
    "\n",
    "@decorator\n",
    "def my_function():\n",
    "    print(\"Inside the function\")\n",
    "\n",
    "my_function()"
   ]
  },
  {
   "cell_type": "code",
   "execution_count": null,
   "metadata": {},
   "outputs": [],
   "source": []
  }
 ],
 "metadata": {
  "kernelspec": {
   "display_name": "env",
   "language": "python",
   "name": "python3"
  },
  "language_info": {
   "codemirror_mode": {
    "name": "ipython",
    "version": 3
   },
   "file_extension": ".py",
   "mimetype": "text/x-python",
   "name": "python",
   "nbconvert_exporter": "python",
   "pygments_lexer": "ipython3",
   "version": "3.11.9"
  }
 },
 "nbformat": 4,
 "nbformat_minor": 2
}
