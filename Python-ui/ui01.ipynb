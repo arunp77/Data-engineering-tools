{
 "cells": [
  {
   "cell_type": "code",
   "execution_count": 2,
   "metadata": {},
   "outputs": [
    {
     "data": {
      "application/vnd.plotly.v1+json": {
       "config": {
        "plotlyServerURL": "https://plot.ly"
       },
       "data": [
        {
         "hoverinfo": "text",
         "lat": [
          -2.5636497028815937,
          -1.1232142339752098,
          -1.6700151454714873,
          -2.0033537895074085,
          -3.1099533988939085,
          -3.1100136991594933,
          -3.3547909695795015,
          -1.334559635562662,
          -1.997212470641978,
          -1.7298185555098864,
          -3.448538764260494,
          -1.0752253695950142,
          -1.4188933979989455,
          -2.9691522233043095,
          -3.0454375819822483,
          -3.0414887253664156,
          -2.739394392601156,
          -2.1881089209194053,
          -2.4201374533947106,
          -2.7719271495048954,
          -1.9703677631940513,
          -3.1512653483698956,
          -2.7696383786619547,
          -2.5840953917657705,
          -2.35982503945741,
          -1.537060096517466,
          -3.0008155446041007,
          -2.214413903965971,
          -2.018963577844894,
          -3.383873968200006,
          -1.9811378702464042,
          -3.0736896907817712,
          -3.3373710175368014,
          -1.1277861568666667,
          -1.0859199173136016,
          -1.4790066297088473,
          -2.7384655770665733,
          -3.25581971498404,
          -1.7894174337196078,
          -2.3996187656509966,
          -3.194904412888053,
          -2.2620577247218243,
          -3.414028697211954,
          -1.2266989948030447,
          -2.8530500459999577,
          -1.843694289115045,
          -2.7207223097764723,
          -2.199829947055473,
          -2.1332243016418007,
          -3.0378638611861826,
          -1.0760384305886035,
          -1.5621679415972136,
          -1.1512526460895272,
          -1.262931623930878,
          -2.005250052972287,
          -1.1953144124422082,
          -3.2787687448702014,
          -3.010042843952137,
          -3.386931777723655,
          -2.686674173091839,
          -2.528306775776295,
          -2.8216274205652603,
          -1.4281562271201764,
          -2.6081166832660267,
          -2.797663725781548,
          -2.143259792104379,
          -3.1476894375630935,
          -1.4945075481149006,
          -3.313623390800573,
          -1.0327826584987068,
          -1.5693880767583566,
          -3.003210796164569,
          -3.486194707190994,
          -1.4613464288629148,
          -1.732856640380957,
          -1.6774820798975316,
          -1.5718241332851357,
          -3.3148883706647743,
          -2.603835678639318,
          -3.2103273511871757,
          -1.3422414353110161,
          -1.9417546829311052,
          -2.672754937868377,
          -3.341104124284941,
          -2.7225441957108445,
          -2.687041694933132,
          -1.67598455415484,
          -1.9061063216119671,
          -1.2819681435591836,
          -2.3194626870951267,
          -3.2010143851542456,
          -1.7168880319425126,
          -1.5980373784577564,
          -2.0968070060762596,
          -1.5725820501135974,
          -2.265511009089023,
          -2.193167926545015,
          -2.431147454103626,
          -3.436452183139762,
          -3.230271432516739
         ],
         "lon": [
          -59.84285407156633,
          -56.8179479436811,
          -58.42822009461837,
          -57.45714654417649,
          -55.462167630369535,
          -58.75353885425562,
          -57.94808538482185,
          -56.222244307284754,
          -58.85600917254189,
          -59.61510045085603,
          -58.55124273543116,
          -59.19389356372998,
          -55.35151173828714,
          -55.959398102177914,
          -56.83298121744788,
          -55.64269704906141,
          -55.98163961550443,
          -59.06714970556982,
          -55.537205007550114,
          -57.303288790421746,
          -55.96279922417969,
          -55.51954350038253,
          -58.40998262514068,
          -59.449740377361614,
          -58.86032418729029,
          -57.86446105686872,
          -55.909926170387536,
          -55.69634708371828,
          -59.965239347344045,
          -57.44626348711217,
          -57.91294498425611,
          -58.88946094764635,
          -59.40067316333159,
          -58.31192414298186,
          -55.2854514804374,
          -58.38398533989622,
          -57.40604689128317,
          -56.484905205524115,
          -58.18185198810353,
          -55.141089586395196,
          -55.18776352528944,
          -58.74108852087318,
          -57.513757470538074,
          -58.49560845091615,
          -58.57579752811266,
          -59.815565263227334,
          -56.952178330100516,
          -57.48660488385569,
          -59.74260624375005,
          -58.606767678816944,
          -55.45867057016673,
          -58.80219054666514,
          -59.275525639543886,
          -57.55273619861219,
          -55.071747729447,
          -58.789723642442496,
          -56.63932226297061,
          -56.19190192335641,
          -58.811812280038005,
          -56.358918256940704,
          -58.16108433640373,
          -56.838470847032106,
          -56.832351446195524,
          -57.32112657962621,
          -59.548551149727956,
          -55.82348752205381,
          -58.39609967514132,
          -59.06740744800073,
          -59.79612429222618,
          -57.04553528405879,
          -56.61217819078859,
          -59.91706085536072,
          -57.439534708503594,
          -58.86752112401031,
          -56.77413604795275,
          -59.12816785497504,
          -56.54531130948767,
          -58.066323268497314,
          -55.316350056316324,
          -59.312395279270035,
          -58.294668244748706,
          -59.43263239379706,
          -55.376531908607184,
          -55.613303233095095,
          -58.710291861424224,
          -56.7000797698291,
          -55.91388899899392,
          -57.22399594200269,
          -57.35174710821997,
          -58.79073854549774,
          -59.5344861609705,
          -55.51392121023336,
          -55.49790971418335,
          -56.83449271363366,
          -58.3048510447565,
          -58.253952126936696,
          -56.3702216056488,
          -55.51444870023711,
          -55.56456787867441,
          -56.10062227071188
         ],
         "marker": {
          "color": [
           1014.2031646154288,
           958.4139964995048,
           966.1628714094613,
           1039.855418852708,
           1010.642905965959,
           950.9197051616629,
           960.1471542866032,
           1016.3501769108055,
           950.5061583846218,
           966.0808051417499,
           1004.8733789366586,
           1019.1895197692693,
           1015.19612595026,
           972.426930946056,
           1021.2179221347536,
           973.72490874968,
           982.5399698159267,
           1024.6491405118024,
           1014.9632899047215,
           1034.9223410494178,
           1015.7612892300343,
           1006.8308603335472,
           959.3674767828093,
           986.7715803059433,
           976.5202367681726,
           974.3989643379084,
           1047.3010554752445,
           989.309772466676,
           1039.2046555177112,
           1013.1138625997263,
           1029.4811303541649,
           1000.2637093105192,
           1007.690388462636,
           999.2517693818863,
           969.5242987798044,
           1022.2452115261506,
           978.0772362440856,
           952.4315966431454,
           1014.5472295907168,
           967.7110679407049,
           1044.0458584352914,
           1045.3928577002587,
           1041.4864390220448,
           987.0158700255445,
           951.5456616528868,
           1042.8318562587726,
           992.8184148317314,
           1046.665481904367,
           1046.3619977089252,
           1035.300945546736,
           979.4448892069586,
           988.5097728601925,
           1035.1136671516856,
           981.6922005156277,
           966.9492746686093,
           1005.680126245835,
           1043.6154774160782,
           1019.6029796674973,
           1007.0061170089365,
           959.7176493770769,
           1011.500722669917,
           1049.0053850104264,
           964.0084015236524,
           1001.8329652363736,
           1037.7373071927955,
           1024.0768617754204,
           1019.7015740995269,
           1020.2484083987109,
           985.9491151219755,
           979.3591844264494,
           1030.9361155478514,
           1031.011339467918,
           1036.7072318580103,
           1041.3240552556472,
           1001.1342398860938,
           1000.15162946872,
           1029.8295178966775,
           1014.9963930777765,
           1020.1966877257703,
           1029.57926694361,
           1039.0005341817566,
           983.7995156851536,
           987.5582952639944,
           959.3981939840869,
           1007.8280140996173,
           953.5942273796742,
           996.559801813246,
           1004.2644634707576,
           978.6541252128285,
           1009.0833260569011,
           953.0500249939049,
           953.7348188749214,
           1032.2600560659657,
           986.0190641411263,
           962.7060512651885,
           1002.2243260054804,
           1026.9993553098611,
           971.5821027496843,
           1012.2890475819,
           958.5347464993768
          ],
          "colorbar": {
           "title": {
            "text": "Pressure (hPa)"
           }
          },
          "colorscale": [
           [
            0,
            "#440154"
           ],
           [
            0.1111111111111111,
            "#482878"
           ],
           [
            0.2222222222222222,
            "#3e4989"
           ],
           [
            0.3333333333333333,
            "#31688e"
           ],
           [
            0.4444444444444444,
            "#26828e"
           ],
           [
            0.5555555555555556,
            "#1f9e89"
           ],
           [
            0.6666666666666666,
            "#35b779"
           ],
           [
            0.7777777777777778,
            "#6ece58"
           ],
           [
            0.8888888888888888,
            "#b5de2b"
           ],
           [
            1,
            "#fde725"
           ]
          ],
          "showscale": true,
          "size": 10
         },
         "mode": "markers",
         "text": [
          "Lat: -2.56, Lon: -59.84, Pressure: 1014.20 hPa",
          "Lat: -1.12, Lon: -56.82, Pressure: 958.41 hPa",
          "Lat: -1.67, Lon: -58.43, Pressure: 966.16 hPa",
          "Lat: -2.00, Lon: -57.46, Pressure: 1039.86 hPa",
          "Lat: -3.11, Lon: -55.46, Pressure: 1010.64 hPa",
          "Lat: -3.11, Lon: -58.75, Pressure: 950.92 hPa",
          "Lat: -3.35, Lon: -57.95, Pressure: 960.15 hPa",
          "Lat: -1.33, Lon: -56.22, Pressure: 1016.35 hPa",
          "Lat: -2.00, Lon: -58.86, Pressure: 950.51 hPa",
          "Lat: -1.73, Lon: -59.62, Pressure: 966.08 hPa",
          "Lat: -3.45, Lon: -58.55, Pressure: 1004.87 hPa",
          "Lat: -1.08, Lon: -59.19, Pressure: 1019.19 hPa",
          "Lat: -1.42, Lon: -55.35, Pressure: 1015.20 hPa",
          "Lat: -2.97, Lon: -55.96, Pressure: 972.43 hPa",
          "Lat: -3.05, Lon: -56.83, Pressure: 1021.22 hPa",
          "Lat: -3.04, Lon: -55.64, Pressure: 973.72 hPa",
          "Lat: -2.74, Lon: -55.98, Pressure: 982.54 hPa",
          "Lat: -2.19, Lon: -59.07, Pressure: 1024.65 hPa",
          "Lat: -2.42, Lon: -55.54, Pressure: 1014.96 hPa",
          "Lat: -2.77, Lon: -57.30, Pressure: 1034.92 hPa",
          "Lat: -1.97, Lon: -55.96, Pressure: 1015.76 hPa",
          "Lat: -3.15, Lon: -55.52, Pressure: 1006.83 hPa",
          "Lat: -2.77, Lon: -58.41, Pressure: 959.37 hPa",
          "Lat: -2.58, Lon: -59.45, Pressure: 986.77 hPa",
          "Lat: -2.36, Lon: -58.86, Pressure: 976.52 hPa",
          "Lat: -1.54, Lon: -57.86, Pressure: 974.40 hPa",
          "Lat: -3.00, Lon: -55.91, Pressure: 1047.30 hPa",
          "Lat: -2.21, Lon: -55.70, Pressure: 989.31 hPa",
          "Lat: -2.02, Lon: -59.97, Pressure: 1039.20 hPa",
          "Lat: -3.38, Lon: -57.45, Pressure: 1013.11 hPa",
          "Lat: -1.98, Lon: -57.91, Pressure: 1029.48 hPa",
          "Lat: -3.07, Lon: -58.89, Pressure: 1000.26 hPa",
          "Lat: -3.34, Lon: -59.40, Pressure: 1007.69 hPa",
          "Lat: -1.13, Lon: -58.31, Pressure: 999.25 hPa",
          "Lat: -1.09, Lon: -55.29, Pressure: 969.52 hPa",
          "Lat: -1.48, Lon: -58.38, Pressure: 1022.25 hPa",
          "Lat: -2.74, Lon: -57.41, Pressure: 978.08 hPa",
          "Lat: -3.26, Lon: -56.48, Pressure: 952.43 hPa",
          "Lat: -1.79, Lon: -58.18, Pressure: 1014.55 hPa",
          "Lat: -2.40, Lon: -55.14, Pressure: 967.71 hPa",
          "Lat: -3.19, Lon: -55.19, Pressure: 1044.05 hPa",
          "Lat: -2.26, Lon: -58.74, Pressure: 1045.39 hPa",
          "Lat: -3.41, Lon: -57.51, Pressure: 1041.49 hPa",
          "Lat: -1.23, Lon: -58.50, Pressure: 987.02 hPa",
          "Lat: -2.85, Lon: -58.58, Pressure: 951.55 hPa",
          "Lat: -1.84, Lon: -59.82, Pressure: 1042.83 hPa",
          "Lat: -2.72, Lon: -56.95, Pressure: 992.82 hPa",
          "Lat: -2.20, Lon: -57.49, Pressure: 1046.67 hPa",
          "Lat: -2.13, Lon: -59.74, Pressure: 1046.36 hPa",
          "Lat: -3.04, Lon: -58.61, Pressure: 1035.30 hPa",
          "Lat: -1.08, Lon: -55.46, Pressure: 979.44 hPa",
          "Lat: -1.56, Lon: -58.80, Pressure: 988.51 hPa",
          "Lat: -1.15, Lon: -59.28, Pressure: 1035.11 hPa",
          "Lat: -1.26, Lon: -57.55, Pressure: 981.69 hPa",
          "Lat: -2.01, Lon: -55.07, Pressure: 966.95 hPa",
          "Lat: -1.20, Lon: -58.79, Pressure: 1005.68 hPa",
          "Lat: -3.28, Lon: -56.64, Pressure: 1043.62 hPa",
          "Lat: -3.01, Lon: -56.19, Pressure: 1019.60 hPa",
          "Lat: -3.39, Lon: -58.81, Pressure: 1007.01 hPa",
          "Lat: -2.69, Lon: -56.36, Pressure: 959.72 hPa",
          "Lat: -2.53, Lon: -58.16, Pressure: 1011.50 hPa",
          "Lat: -2.82, Lon: -56.84, Pressure: 1049.01 hPa",
          "Lat: -1.43, Lon: -56.83, Pressure: 964.01 hPa",
          "Lat: -2.61, Lon: -57.32, Pressure: 1001.83 hPa",
          "Lat: -2.80, Lon: -59.55, Pressure: 1037.74 hPa",
          "Lat: -2.14, Lon: -55.82, Pressure: 1024.08 hPa",
          "Lat: -3.15, Lon: -58.40, Pressure: 1019.70 hPa",
          "Lat: -1.49, Lon: -59.07, Pressure: 1020.25 hPa",
          "Lat: -3.31, Lon: -59.80, Pressure: 985.95 hPa",
          "Lat: -1.03, Lon: -57.05, Pressure: 979.36 hPa",
          "Lat: -1.57, Lon: -56.61, Pressure: 1030.94 hPa",
          "Lat: -3.00, Lon: -59.92, Pressure: 1031.01 hPa",
          "Lat: -3.49, Lon: -57.44, Pressure: 1036.71 hPa",
          "Lat: -1.46, Lon: -58.87, Pressure: 1041.32 hPa",
          "Lat: -1.73, Lon: -56.77, Pressure: 1001.13 hPa",
          "Lat: -1.68, Lon: -59.13, Pressure: 1000.15 hPa",
          "Lat: -1.57, Lon: -56.55, Pressure: 1029.83 hPa",
          "Lat: -3.31, Lon: -58.07, Pressure: 1015.00 hPa",
          "Lat: -2.60, Lon: -55.32, Pressure: 1020.20 hPa",
          "Lat: -3.21, Lon: -59.31, Pressure: 1029.58 hPa",
          "Lat: -1.34, Lon: -58.29, Pressure: 1039.00 hPa",
          "Lat: -1.94, Lon: -59.43, Pressure: 983.80 hPa",
          "Lat: -2.67, Lon: -55.38, Pressure: 987.56 hPa",
          "Lat: -3.34, Lon: -55.61, Pressure: 959.40 hPa",
          "Lat: -2.72, Lon: -58.71, Pressure: 1007.83 hPa",
          "Lat: -2.69, Lon: -56.70, Pressure: 953.59 hPa",
          "Lat: -1.68, Lon: -55.91, Pressure: 996.56 hPa",
          "Lat: -1.91, Lon: -57.22, Pressure: 1004.26 hPa",
          "Lat: -1.28, Lon: -57.35, Pressure: 978.65 hPa",
          "Lat: -2.32, Lon: -58.79, Pressure: 1009.08 hPa",
          "Lat: -3.20, Lon: -59.53, Pressure: 953.05 hPa",
          "Lat: -1.72, Lon: -55.51, Pressure: 953.73 hPa",
          "Lat: -1.60, Lon: -55.50, Pressure: 1032.26 hPa",
          "Lat: -2.10, Lon: -56.83, Pressure: 986.02 hPa",
          "Lat: -1.57, Lon: -58.30, Pressure: 962.71 hPa",
          "Lat: -2.27, Lon: -58.25, Pressure: 1002.22 hPa",
          "Lat: -2.19, Lon: -56.37, Pressure: 1027.00 hPa",
          "Lat: -2.43, Lon: -55.51, Pressure: 971.58 hPa",
          "Lat: -3.44, Lon: -55.56, Pressure: 1012.29 hPa",
          "Lat: -3.23, Lon: -56.10, Pressure: 958.53 hPa"
         ],
         "type": "scattergeo"
        }
       ],
       "layout": {
        "geo": {
         "lataxis": {
          "range": [
           -3.5,
           -1
          ]
         },
         "lonaxis": {
          "range": [
           -60,
           -55
          ]
         },
         "projection": {
          "type": "mercator"
         }
        },
        "template": {
         "data": {
          "bar": [
           {
            "error_x": {
             "color": "#2a3f5f"
            },
            "error_y": {
             "color": "#2a3f5f"
            },
            "marker": {
             "line": {
              "color": "#E5ECF6",
              "width": 0.5
             },
             "pattern": {
              "fillmode": "overlay",
              "size": 10,
              "solidity": 0.2
             }
            },
            "type": "bar"
           }
          ],
          "barpolar": [
           {
            "marker": {
             "line": {
              "color": "#E5ECF6",
              "width": 0.5
             },
             "pattern": {
              "fillmode": "overlay",
              "size": 10,
              "solidity": 0.2
             }
            },
            "type": "barpolar"
           }
          ],
          "carpet": [
           {
            "aaxis": {
             "endlinecolor": "#2a3f5f",
             "gridcolor": "white",
             "linecolor": "white",
             "minorgridcolor": "white",
             "startlinecolor": "#2a3f5f"
            },
            "baxis": {
             "endlinecolor": "#2a3f5f",
             "gridcolor": "white",
             "linecolor": "white",
             "minorgridcolor": "white",
             "startlinecolor": "#2a3f5f"
            },
            "type": "carpet"
           }
          ],
          "choropleth": [
           {
            "colorbar": {
             "outlinewidth": 0,
             "ticks": ""
            },
            "type": "choropleth"
           }
          ],
          "contour": [
           {
            "colorbar": {
             "outlinewidth": 0,
             "ticks": ""
            },
            "colorscale": [
             [
              0,
              "#0d0887"
             ],
             [
              0.1111111111111111,
              "#46039f"
             ],
             [
              0.2222222222222222,
              "#7201a8"
             ],
             [
              0.3333333333333333,
              "#9c179e"
             ],
             [
              0.4444444444444444,
              "#bd3786"
             ],
             [
              0.5555555555555556,
              "#d8576b"
             ],
             [
              0.6666666666666666,
              "#ed7953"
             ],
             [
              0.7777777777777778,
              "#fb9f3a"
             ],
             [
              0.8888888888888888,
              "#fdca26"
             ],
             [
              1,
              "#f0f921"
             ]
            ],
            "type": "contour"
           }
          ],
          "contourcarpet": [
           {
            "colorbar": {
             "outlinewidth": 0,
             "ticks": ""
            },
            "type": "contourcarpet"
           }
          ],
          "heatmap": [
           {
            "colorbar": {
             "outlinewidth": 0,
             "ticks": ""
            },
            "colorscale": [
             [
              0,
              "#0d0887"
             ],
             [
              0.1111111111111111,
              "#46039f"
             ],
             [
              0.2222222222222222,
              "#7201a8"
             ],
             [
              0.3333333333333333,
              "#9c179e"
             ],
             [
              0.4444444444444444,
              "#bd3786"
             ],
             [
              0.5555555555555556,
              "#d8576b"
             ],
             [
              0.6666666666666666,
              "#ed7953"
             ],
             [
              0.7777777777777778,
              "#fb9f3a"
             ],
             [
              0.8888888888888888,
              "#fdca26"
             ],
             [
              1,
              "#f0f921"
             ]
            ],
            "type": "heatmap"
           }
          ],
          "heatmapgl": [
           {
            "colorbar": {
             "outlinewidth": 0,
             "ticks": ""
            },
            "colorscale": [
             [
              0,
              "#0d0887"
             ],
             [
              0.1111111111111111,
              "#46039f"
             ],
             [
              0.2222222222222222,
              "#7201a8"
             ],
             [
              0.3333333333333333,
              "#9c179e"
             ],
             [
              0.4444444444444444,
              "#bd3786"
             ],
             [
              0.5555555555555556,
              "#d8576b"
             ],
             [
              0.6666666666666666,
              "#ed7953"
             ],
             [
              0.7777777777777778,
              "#fb9f3a"
             ],
             [
              0.8888888888888888,
              "#fdca26"
             ],
             [
              1,
              "#f0f921"
             ]
            ],
            "type": "heatmapgl"
           }
          ],
          "histogram": [
           {
            "marker": {
             "pattern": {
              "fillmode": "overlay",
              "size": 10,
              "solidity": 0.2
             }
            },
            "type": "histogram"
           }
          ],
          "histogram2d": [
           {
            "colorbar": {
             "outlinewidth": 0,
             "ticks": ""
            },
            "colorscale": [
             [
              0,
              "#0d0887"
             ],
             [
              0.1111111111111111,
              "#46039f"
             ],
             [
              0.2222222222222222,
              "#7201a8"
             ],
             [
              0.3333333333333333,
              "#9c179e"
             ],
             [
              0.4444444444444444,
              "#bd3786"
             ],
             [
              0.5555555555555556,
              "#d8576b"
             ],
             [
              0.6666666666666666,
              "#ed7953"
             ],
             [
              0.7777777777777778,
              "#fb9f3a"
             ],
             [
              0.8888888888888888,
              "#fdca26"
             ],
             [
              1,
              "#f0f921"
             ]
            ],
            "type": "histogram2d"
           }
          ],
          "histogram2dcontour": [
           {
            "colorbar": {
             "outlinewidth": 0,
             "ticks": ""
            },
            "colorscale": [
             [
              0,
              "#0d0887"
             ],
             [
              0.1111111111111111,
              "#46039f"
             ],
             [
              0.2222222222222222,
              "#7201a8"
             ],
             [
              0.3333333333333333,
              "#9c179e"
             ],
             [
              0.4444444444444444,
              "#bd3786"
             ],
             [
              0.5555555555555556,
              "#d8576b"
             ],
             [
              0.6666666666666666,
              "#ed7953"
             ],
             [
              0.7777777777777778,
              "#fb9f3a"
             ],
             [
              0.8888888888888888,
              "#fdca26"
             ],
             [
              1,
              "#f0f921"
             ]
            ],
            "type": "histogram2dcontour"
           }
          ],
          "mesh3d": [
           {
            "colorbar": {
             "outlinewidth": 0,
             "ticks": ""
            },
            "type": "mesh3d"
           }
          ],
          "parcoords": [
           {
            "line": {
             "colorbar": {
              "outlinewidth": 0,
              "ticks": ""
             }
            },
            "type": "parcoords"
           }
          ],
          "pie": [
           {
            "automargin": true,
            "type": "pie"
           }
          ],
          "scatter": [
           {
            "fillpattern": {
             "fillmode": "overlay",
             "size": 10,
             "solidity": 0.2
            },
            "type": "scatter"
           }
          ],
          "scatter3d": [
           {
            "line": {
             "colorbar": {
              "outlinewidth": 0,
              "ticks": ""
             }
            },
            "marker": {
             "colorbar": {
              "outlinewidth": 0,
              "ticks": ""
             }
            },
            "type": "scatter3d"
           }
          ],
          "scattercarpet": [
           {
            "marker": {
             "colorbar": {
              "outlinewidth": 0,
              "ticks": ""
             }
            },
            "type": "scattercarpet"
           }
          ],
          "scattergeo": [
           {
            "marker": {
             "colorbar": {
              "outlinewidth": 0,
              "ticks": ""
             }
            },
            "type": "scattergeo"
           }
          ],
          "scattergl": [
           {
            "marker": {
             "colorbar": {
              "outlinewidth": 0,
              "ticks": ""
             }
            },
            "type": "scattergl"
           }
          ],
          "scattermapbox": [
           {
            "marker": {
             "colorbar": {
              "outlinewidth": 0,
              "ticks": ""
             }
            },
            "type": "scattermapbox"
           }
          ],
          "scatterpolar": [
           {
            "marker": {
             "colorbar": {
              "outlinewidth": 0,
              "ticks": ""
             }
            },
            "type": "scatterpolar"
           }
          ],
          "scatterpolargl": [
           {
            "marker": {
             "colorbar": {
              "outlinewidth": 0,
              "ticks": ""
             }
            },
            "type": "scatterpolargl"
           }
          ],
          "scatterternary": [
           {
            "marker": {
             "colorbar": {
              "outlinewidth": 0,
              "ticks": ""
             }
            },
            "type": "scatterternary"
           }
          ],
          "surface": [
           {
            "colorbar": {
             "outlinewidth": 0,
             "ticks": ""
            },
            "colorscale": [
             [
              0,
              "#0d0887"
             ],
             [
              0.1111111111111111,
              "#46039f"
             ],
             [
              0.2222222222222222,
              "#7201a8"
             ],
             [
              0.3333333333333333,
              "#9c179e"
             ],
             [
              0.4444444444444444,
              "#bd3786"
             ],
             [
              0.5555555555555556,
              "#d8576b"
             ],
             [
              0.6666666666666666,
              "#ed7953"
             ],
             [
              0.7777777777777778,
              "#fb9f3a"
             ],
             [
              0.8888888888888888,
              "#fdca26"
             ],
             [
              1,
              "#f0f921"
             ]
            ],
            "type": "surface"
           }
          ],
          "table": [
           {
            "cells": {
             "fill": {
              "color": "#EBF0F8"
             },
             "line": {
              "color": "white"
             }
            },
            "header": {
             "fill": {
              "color": "#C8D4E3"
             },
             "line": {
              "color": "white"
             }
            },
            "type": "table"
           }
          ]
         },
         "layout": {
          "annotationdefaults": {
           "arrowcolor": "#2a3f5f",
           "arrowhead": 0,
           "arrowwidth": 1
          },
          "autotypenumbers": "strict",
          "coloraxis": {
           "colorbar": {
            "outlinewidth": 0,
            "ticks": ""
           }
          },
          "colorscale": {
           "diverging": [
            [
             0,
             "#8e0152"
            ],
            [
             0.1,
             "#c51b7d"
            ],
            [
             0.2,
             "#de77ae"
            ],
            [
             0.3,
             "#f1b6da"
            ],
            [
             0.4,
             "#fde0ef"
            ],
            [
             0.5,
             "#f7f7f7"
            ],
            [
             0.6,
             "#e6f5d0"
            ],
            [
             0.7,
             "#b8e186"
            ],
            [
             0.8,
             "#7fbc41"
            ],
            [
             0.9,
             "#4d9221"
            ],
            [
             1,
             "#276419"
            ]
           ],
           "sequential": [
            [
             0,
             "#0d0887"
            ],
            [
             0.1111111111111111,
             "#46039f"
            ],
            [
             0.2222222222222222,
             "#7201a8"
            ],
            [
             0.3333333333333333,
             "#9c179e"
            ],
            [
             0.4444444444444444,
             "#bd3786"
            ],
            [
             0.5555555555555556,
             "#d8576b"
            ],
            [
             0.6666666666666666,
             "#ed7953"
            ],
            [
             0.7777777777777778,
             "#fb9f3a"
            ],
            [
             0.8888888888888888,
             "#fdca26"
            ],
            [
             1,
             "#f0f921"
            ]
           ],
           "sequentialminus": [
            [
             0,
             "#0d0887"
            ],
            [
             0.1111111111111111,
             "#46039f"
            ],
            [
             0.2222222222222222,
             "#7201a8"
            ],
            [
             0.3333333333333333,
             "#9c179e"
            ],
            [
             0.4444444444444444,
             "#bd3786"
            ],
            [
             0.5555555555555556,
             "#d8576b"
            ],
            [
             0.6666666666666666,
             "#ed7953"
            ],
            [
             0.7777777777777778,
             "#fb9f3a"
            ],
            [
             0.8888888888888888,
             "#fdca26"
            ],
            [
             1,
             "#f0f921"
            ]
           ]
          },
          "colorway": [
           "#636efa",
           "#EF553B",
           "#00cc96",
           "#ab63fa",
           "#FFA15A",
           "#19d3f3",
           "#FF6692",
           "#B6E880",
           "#FF97FF",
           "#FECB52"
          ],
          "font": {
           "color": "#2a3f5f"
          },
          "geo": {
           "bgcolor": "white",
           "lakecolor": "white",
           "landcolor": "#E5ECF6",
           "showlakes": true,
           "showland": true,
           "subunitcolor": "white"
          },
          "hoverlabel": {
           "align": "left"
          },
          "hovermode": "closest",
          "mapbox": {
           "style": "light"
          },
          "paper_bgcolor": "white",
          "plot_bgcolor": "#E5ECF6",
          "polar": {
           "angularaxis": {
            "gridcolor": "white",
            "linecolor": "white",
            "ticks": ""
           },
           "bgcolor": "#E5ECF6",
           "radialaxis": {
            "gridcolor": "white",
            "linecolor": "white",
            "ticks": ""
           }
          },
          "scene": {
           "xaxis": {
            "backgroundcolor": "#E5ECF6",
            "gridcolor": "white",
            "gridwidth": 2,
            "linecolor": "white",
            "showbackground": true,
            "ticks": "",
            "zerolinecolor": "white"
           },
           "yaxis": {
            "backgroundcolor": "#E5ECF6",
            "gridcolor": "white",
            "gridwidth": 2,
            "linecolor": "white",
            "showbackground": true,
            "ticks": "",
            "zerolinecolor": "white"
           },
           "zaxis": {
            "backgroundcolor": "#E5ECF6",
            "gridcolor": "white",
            "gridwidth": 2,
            "linecolor": "white",
            "showbackground": true,
            "ticks": "",
            "zerolinecolor": "white"
           }
          },
          "shapedefaults": {
           "line": {
            "color": "#2a3f5f"
           }
          },
          "ternary": {
           "aaxis": {
            "gridcolor": "white",
            "linecolor": "white",
            "ticks": ""
           },
           "baxis": {
            "gridcolor": "white",
            "linecolor": "white",
            "ticks": ""
           },
           "bgcolor": "#E5ECF6",
           "caxis": {
            "gridcolor": "white",
            "linecolor": "white",
            "ticks": ""
           }
          },
          "title": {
           "x": 0.05
          },
          "xaxis": {
           "automargin": true,
           "gridcolor": "white",
           "linecolor": "white",
           "ticks": "",
           "title": {
            "standoff": 15
           },
           "zerolinecolor": "white",
           "zerolinewidth": 2
          },
          "yaxis": {
           "automargin": true,
           "gridcolor": "white",
           "linecolor": "white",
           "ticks": "",
           "title": {
            "standoff": 15
           },
           "zerolinecolor": "white",
           "zerolinewidth": 2
          }
         }
        },
        "title": {
         "text": "Atmospheric Pressure over Amazon Rainforest"
        }
       }
      }
     },
     "metadata": {},
     "output_type": "display_data"
    }
   ],
   "source": [
    "import plotly.graph_objects as go\n",
    "import numpy as np\n",
    "from geopy.distance import geodesic\n",
    "\n",
    "# Create dummy data for latitude, longitude, and pressure over Amazon Rainforest\n",
    "np.random.seed(42)\n",
    "lats = np.random.uniform(-3.5, -1.0, 100)  # Latitude values for Amazon\n",
    "lons = np.random.uniform(-60, -55, 100)    # Longitude values for Amazon\n",
    "pressure = np.random.uniform(950, 1050, 100)  # Random pressure values (hPa)\n",
    "\n",
    "# Create a scatter plot with atmospheric pressure as color\n",
    "fig = go.Figure(\n",
    "    go.Scattergeo(\n",
    "    lon=lons,\n",
    "    lat=lats,\n",
    "    mode='markers',\n",
    "    marker=dict(\n",
    "        size=10,\n",
    "        color=pressure,\n",
    "        colorscale='Viridis',\n",
    "        colorbar=dict(title=\"Pressure (hPa)\"),\n",
    "        showscale=True\n",
    "    ),\n",
    "    hoverinfo='text',\n",
    "    text=[f\"Lat: {lat:.2f}, Lon: {lon:.2f}, Pressure: {p:.2f} hPa\" \n",
    "        for lat, lon, p in zip(lats, lons, pressure)]\n",
    "))\n",
    "\n",
    "# Add layout features for better view over the Amazon\n",
    "fig.update_geos(projection_type=\"mercator\", \n",
    "                lataxis_range=[-3.5, -1.0], \n",
    "                lonaxis_range=[-60, -55])\n",
    "fig.update_layout(title=\"Atmospheric Pressure over Amazon Rainforest\")\n",
    "\n",
    "# Variables to store clicked points\n",
    "clicked_points = []\n",
    "\n",
    "# Callback function for click events\n",
    "def handle_click(trace, points, state):\n",
    "    global clicked_points\n",
    "    if len(points.point_inds) > 0:\n",
    "        clicked_lat = trace.lat[points.point_inds[0]]\n",
    "        clicked_lon = trace.lon[points.point_inds[0]]\n",
    "        clicked_points.append((clicked_lat, clicked_lon))\n",
    "\n",
    "        if len(clicked_points) == 2:\n",
    "            # Calculate the distance between two points\n",
    "            distance = geodesic(clicked_points[0], clicked_points[1]).kilometers\n",
    "\n",
    "            # Add a line connecting the two points\n",
    "            fig.add_trace(go.Scattergeo(\n",
    "                lon=[clicked_points[0][1], clicked_points[1][1]],\n",
    "                lat=[clicked_points[0][0], clicked_points[1][0]],\n",
    "                mode='lines+markers',\n",
    "                line=dict(color='red', width=2),\n",
    "                marker=dict(size=10),\n",
    "                hoverinfo='none',\n",
    "            ))\n",
    "\n",
    "            # Add an annotation for the distance\n",
    "            mid_lat = (clicked_points[0][0] + clicked_points[1][0]) / 2\n",
    "            mid_lon = (clicked_points[0][1] + clicked_points[1][1]) / 2\n",
    "            fig.add_annotation(\n",
    "                x=mid_lon, y=mid_lat, text=f\"Distance: {distance:.2f} km\",\n",
    "                showarrow=False, font=dict(color=\"red\", size=12)\n",
    "            )\n",
    "\n",
    "            # Reset clicked points\n",
    "            clicked_points = []\n",
    "\n",
    "    fig.show()\n",
    "\n",
    "# Attach the callback to the figure\n",
    "fig.data[0].on_click(handle_click)\n",
    "\n",
    "# Show the plot\n",
    "fig.show()\n"
   ]
  },
  {
   "cell_type": "code",
   "execution_count": 3,
   "metadata": {},
   "outputs": [
    {
     "data": {
      "image/png": "[encoded data removed]",
      "text/plain": [
       "<Figure size 640x480 with 2 Axes>"
      ]
     },
     "metadata": {},
     "output_type": "display_data"
    }
   ],
   "source": [
    "import tkinter as tk\n",
    "from tkinter import messagebox\n",
    "import numpy as np\n",
    "import matplotlib.pyplot as plt\n",
    "from matplotlib.backends.backend_tkagg import FigureCanvasTkAgg\n",
    "from geopy.distance import geodesic\n",
    "\n",
    "# Create a Tkinter window\n",
    "root = tk.Tk()\n",
    "root.title(\"Atmospheric Pressure over Amazon Rainforest\")\n",
    "\n",
    "# Generate random data for lat, long, and pressure\n",
    "np.random.seed(42)\n",
    "lats = np.random.uniform(-3.5, -1.0, 100)  # Latitude for Amazon\n",
    "lons = np.random.uniform(-60, -55, 100)    # Longitude for Amazon\n",
    "pressure = np.random.uniform(950, 1050, 100)  # Random pressure (hPa)\n",
    "\n",
    "# Create a figure and axis using Matplotlib\n",
    "fig, ax = plt.subplots()\n",
    "scatter = ax.scatter(lons, lats, c=pressure, cmap='viridis')\n",
    "ax.set_title('Atmospheric Pressure over Amazon Rainforest')\n",
    "ax.set_xlabel('Longitude')\n",
    "ax.set_ylabel('Latitude')\n",
    "\n",
    "# Add a colorbar for the pressure\n",
    "cbar = plt.colorbar(scatter, ax=ax)\n",
    "cbar.set_label('Pressure (hPa)')\n",
    "\n",
    "# Store clicked points to calculate distance\n",
    "clicked_points = []\n",
    "\n",
    "# Click event handler\n",
    "def on_click(event):\n",
    "    if event.inaxes == ax:\n",
    "        clicked_lat = event.ydata\n",
    "        clicked_lon = event.xdata\n",
    "        clicked_points.append((clicked_lat, clicked_lon))\n",
    "        \n",
    "        if len(clicked_points) == 2:\n",
    "            # Calculate the distance between two points\n",
    "            distance = geodesic(clicked_points[0], clicked_points[1]).kilometers\n",
    "            \n",
    "            # Connect the two points with a line\n",
    "            ax.plot([clicked_points[0][1], clicked_points[1][1]], \n",
    "                    [clicked_points[0][0], clicked_points[1][0]], \n",
    "                    color='red', linewidth=2)\n",
    "            \n",
    "            # Show the distance in a popup\n",
    "            messagebox.showinfo(\"Distance\", f\"Distance: {distance:.2f} km\")\n",
    "            \n",
    "            # Clear the points for the next selection\n",
    "            clicked_points.clear()\n",
    "            \n",
    "        # Redraw the figure\n",
    "        fig.canvas.draw()\n",
    "\n",
    "# Bind the click event to the plot\n",
    "fig.canvas.mpl_connect('button_press_event', on_click)\n",
    "\n",
    "# Integrate Matplotlib figure into the Tkinter window\n",
    "canvas = FigureCanvasTkAgg(fig, master=root)\n",
    "canvas.draw()\n",
    "canvas.get_tk_widget().pack(side=tk.TOP, fill=tk.BOTH, expand=1)\n",
    "\n",
    "# Start the Tkinter event loop\n",
    "root.mainloop()\n"
   ]
  },
  {
   "cell_type": "code",
   "execution_count": 6,
   "metadata": {},
   "outputs": [
    {
     "data": {
      "image/png": "[encoded data removed]",
      "text/plain": [
       "<Figure size 1000x700 with 2 Axes>"
      ]
     },
     "metadata": {},
     "output_type": "display_data"
    }
   ],
   "source": [
    "import numpy as np\n",
    "import matplotlib.pyplot as plt\n",
    "import cartopy.crs as ccrs\n",
    "import cartopy.feature as cfeature\n",
    "from geopy.distance import geodesic\n",
    "import tkinter as tk\n",
    "from tkinter import messagebox\n",
    "from matplotlib.backends.backend_tkagg import FigureCanvasTkAgg\n",
    "\n",
    "# Create a Tkinter window\n",
    "root = tk.Tk()\n",
    "root.title(\"Atmospheric Pressure over Amazon Rainforest\")\n",
    "\n",
    "# Generate random data for lat, lon, and pressure\n",
    "np.random.seed(42)\n",
    "lats = np.random.uniform(-3.5, -1.0, 100)  # Latitude for Amazon\n",
    "lons = np.random.uniform(-60, -55, 100)    # Longitude for Amazon\n",
    "pressure = np.random.uniform(950, 1050, 100)  # Random pressure (hPa)\n",
    "\n",
    "# Create a Cartopy figure and axis with a Mercator projection\n",
    "fig, ax = plt.subplots(figsize=(10, 7), subplot_kw={'projection': ccrs.PlateCarree()})\n",
    "ax.set_extent([-70, -50, -10, 5])  # Define extent over the Amazon region\n",
    "\n",
    "# Add coastlines, borders, and other map-related features\n",
    "ax.coastlines(resolution='110m')\n",
    "ax.add_feature(cfeature.BORDERS)\n",
    "ax.add_feature(cfeature.LAND)\n",
    "ax.add_feature(cfeature.OCEAN)\n",
    "ax.add_feature(cfeature.RIVERS)\n",
    "ax.add_feature(cfeature.LAKES, alpha=0.5)\n",
    "\n",
    "# Plot pressure data points\n",
    "sc = ax.scatter(lons, lats, c=pressure, cmap='viridis', transform=ccrs.PlateCarree())\n",
    "cbar = plt.colorbar(sc, ax=ax, orientation=\"vertical\", pad=0.05)\n",
    "cbar.set_label('Pressure (hPa)')\n",
    "\n",
    "# Store clicked points for distance calculation\n",
    "clicked_points = []\n",
    "\n",
    "# Event handler for clicking on the plot\n",
    "def on_click(event):\n",
    "    if event.inaxes == ax:\n",
    "        # Get clicked coordinates (latitude and longitude)\n",
    "        clicked_lat = event.ydata\n",
    "        clicked_lon = event.xdata\n",
    "        clicked_points.append((clicked_lat, clicked_lon))\n",
    "        \n",
    "        if len(clicked_points) == 2:\n",
    "            # Calculate the geodesic distance between two clicked points\n",
    "            distance = geodesic(clicked_points[0], clicked_points[1]).kilometers\n",
    "            \n",
    "            # Connect the two points with a line\n",
    "            ax.plot([clicked_points[0][1], clicked_points[1][1]], \n",
    "                    [clicked_points[0][0], clicked_points[1][0]], \n",
    "                    color='red', linewidth=2, transform=ccrs.PlateCarree())\n",
    "            \n",
    "            # Show the distance in a Tkinter popup\n",
    "            messagebox.showinfo(\"Distance\", f\"Distance: {distance:.2f} km\")\n",
    "            \n",
    "            # Clear clicked points for the next calculation\n",
    "            clicked_points.clear()\n",
    "        \n",
    "        # Redraw the figure\n",
    "        fig.canvas.draw()\n",
    "\n",
    "# Bind the click event to the Cartopy plot\n",
    "fig.canvas.mpl_connect('button_press_event', on_click)\n",
    "\n",
    "# Embed the Matplotlib figure into the Tkinter window\n",
    "canvas = FigureCanvasTkAgg(fig, master=root)\n",
    "canvas.draw()\n",
    "canvas.get_tk_widget().pack(side=tk.TOP, fill=tk.BOTH, expand=1)\n",
    "\n",
    "# Start Tkinter event loop\n",
    "root.mainloop()"
   ]
  },
  {
   "cell_type": "code",
   "execution_count": null,
   "metadata": {},
   "outputs": [],
   "source": []
  }
 ],
 "metadata": {
  "kernelspec": {
   "display_name": "env",
   "language": "python",
   "name": "python3"
  },
  "language_info": {
   "codemirror_mode": {
    "name": "ipython",
    "version": 3
   },
   "file_extension": ".py",
   "mimetype": "text/x-python",
   "name": "python",
   "nbconvert_exporter": "python",
   "pygments_lexer": "ipython3",
   "version": "3.11.9"
  }
 },
 "nbformat": 4,
 "nbformat_minor": 2
}
